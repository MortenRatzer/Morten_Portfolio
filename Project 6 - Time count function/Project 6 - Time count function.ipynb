{
 "cells": [
  {
   "cell_type": "code",
   "execution_count": 3,
   "id": "6da04116-7388-4b2c-be9d-aeadfb991da9",
   "metadata": {},
   "outputs": [
    {
     "name": "stdout",
     "output_type": "stream",
     "text": [
      "20211208_22:18:07 -  0\n",
      "20211208_22:18:08 -  1\n",
      "20211208_22:18:09 -  2\n",
      "20211208_22:18:10 -  3\n",
      "20211208_22:18:11 -  4\n",
      "20211208_22:18:12 -  5\n",
      "20211208_22:18:13 -  6\n",
      "20211208_22:18:14 -  7\n",
      "20211208_22:18:15 -  8\n",
      "20211208_22:18:16 -  9\n"
     ]
    }
   ],
   "source": [
    "# Project 6 - Time count function\n",
    "from datetime import datetime\n",
    "import time\n",
    "\n",
    "f = open('log.txt', 'w')\n",
    "\n",
    "for i in range(0,10):\n",
    "    print(datetime.now().strftime('%Y%m%d_%H:%M:%S - '),i)\n",
    "    f.write(datetime.now().strftime('%Y%m%d_%H:%M:%S - '));\n",
    "    time.sleep(1)\n",
    "    f.write(str(i));\n",
    "    f.write('\\n')\n",
    "f.close()"
   ]
  },
  {
   "cell_type": "code",
   "execution_count": null,
   "id": "56750cf8-0a13-40c3-91e9-edb34a37af36",
   "metadata": {},
   "outputs": [],
   "source": []
  }
 ],
 "metadata": {
  "kernelspec": {
   "display_name": "Python 3",
   "language": "python",
   "name": "python3"
  },
  "language_info": {
   "codemirror_mode": {
    "name": "ipython",
    "version": 3
   },
   "file_extension": ".py",
   "mimetype": "text/x-python",
   "name": "python",
   "nbconvert_exporter": "python",
   "pygments_lexer": "ipython3",
   "version": "3.8.8"
  }
 },
 "nbformat": 4,
 "nbformat_minor": 5
}
