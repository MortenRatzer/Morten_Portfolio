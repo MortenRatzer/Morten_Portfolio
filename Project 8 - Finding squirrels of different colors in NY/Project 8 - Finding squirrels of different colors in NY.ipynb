{
 "cells": [
  {
   "cell_type": "code",
   "execution_count": 8,
   "id": "d2cf9e05-50b8-4d72-af6b-e3266432d750",
   "metadata": {},
   "outputs": [
    {
     "name": "stdout",
     "output_type": "stream",
     "text": [
      "Total number of gray squirrels are: 2473\n",
      "Total number of black squirrels are: 103\n",
      "Total number of brown squirrels are: 392\n"
     ]
    }
   ],
   "source": [
    "# Project 8 - Finding squirrels of different colors in NY\n",
    "\n",
    "import pandas as pd\n",
    "data=pd.read_csv(\"2018_Central_Park_Squirrel_Census_-_Squirrel_Data.csv\")\n",
    "gray_squirrel_count=len(data[data[\"Primary Fur Color\"] == \"Gray\"])\n",
    "black_squirrel_count=len(data[data[\"Primary Fur Color\"] == \"Black\"])\n",
    "brown_squirrel_count=len(data[data[\"Primary Fur Color\"] == \"Cinnamon\"])\n",
    "\n",
    "print('Total number of gray squirrels are:',gray_squirrel_count)\n",
    "print('Total number of black squirrels are:',black_squirrel_count)\n",
    "print('Total number of brown squirrels are:',brown_squirrel_count)\n",
    "\n",
    "data_dict={\"Fur color\":[\"Gray\",\"Black\",\"Brown\"],\"Count\":[grey_squirrel_count,black_squirrel_count,brown_squirrel_count]}\n",
    "data = pd.DataFrame(data_dict)\n",
    "data.to_csv(\"Squirrel data.csv\")"
   ]
  },
  {
   "cell_type": "code",
   "execution_count": null,
   "id": "7b4f4de7-db0b-49f9-af40-df68744d874e",
   "metadata": {},
   "outputs": [],
   "source": []
  }
 ],
 "metadata": {
  "kernelspec": {
   "display_name": "Python 3",
   "language": "python",
   "name": "python3"
  },
  "language_info": {
   "codemirror_mode": {
    "name": "ipython",
    "version": 3
   },
   "file_extension": ".py",
   "mimetype": "text/x-python",
   "name": "python",
   "nbconvert_exporter": "python",
   "pygments_lexer": "ipython3",
   "version": "3.8.8"
  }
 },
 "nbformat": 4,
 "nbformat_minor": 5
}
