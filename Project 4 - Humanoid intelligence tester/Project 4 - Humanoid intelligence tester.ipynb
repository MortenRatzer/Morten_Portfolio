{
 "cells": [
  {
   "cell_type": "code",
   "execution_count": 2,
   "id": "e6e0ac2f-80c1-4fe7-a87f-44300d0ef483",
   "metadata": {},
   "outputs": [
    {
     "name": "stdout",
     "output_type": "stream",
     "text": [
      "How smart are you on a scale from 0 to 10? 0 being dumb, while 10 is okay smart.\n",
      " this scale will be used the remaining time\n"
     ]
    },
    {
     "name": "stdin",
     "output_type": "stream",
     "text": [
      " 3000\n"
     ]
    },
    {
     "name": "stdout",
     "output_type": "stream",
     "text": [
      "Wow you are smart!\n",
      "Are you sure?\n"
     ]
    },
    {
     "name": "stdin",
     "output_type": "stream",
     "text": [
      " 99\n"
     ]
    },
    {
     "name": "stdout",
     "output_type": "stream",
     "text": [
      "you are amazing\n"
     ]
    }
   ],
   "source": [
    "# Project 4 - Humanoid intelligence tester\n",
    "print('How smart are you on a scale from 0 to 10? 0 being dumb, while 10 is okay smart.\\n this scale will be used the remaining time')\n",
    "smart=input()\n",
    "smart=int(smart)\n",
    "if smart <=3:\n",
    "    print('you are okay then!')\n",
    "    print('How bad a day do you have today on a scale from 0 to 10?')\n",
    "    day=input()\n",
    "    day=int(day)\n",
    "    if day>=6:\n",
    "        print('Good for you')\n",
    "    else:\n",
    "        print('I feel sorry for you.... ')\n",
    "elif smart <=6:\n",
    "    print('Then you are clearly smarter than you look')\n",
    "    print('By any change you just have a bad day on a scale from 0 to 10?')\n",
    "    dayt=input()\n",
    "    dayt=int(dayt)\n",
    "    if dayt<=5:\n",
    "        print('Hope tomorrow is better then')\n",
    "    else:\n",
    "        print('Happy to hear')\n",
    "elif smart <=10:\n",
    "    print('I am impressed!')\n",
    "    print('But are you sure?')\n",
    "    lyer=input()\n",
    "    lyer=int(lyer)\n",
    "    if lyer<=5:\n",
    "        print('I thought so :D')\n",
    "    else:\n",
    "        print('Error 404 - cant be true')\n",
    "else:\n",
    "    print('Wow you are smart!')\n",
    "    print('Are you sure?')\n",
    "    os=input()\n",
    "    os=int(os)\n",
    "    if os<=2:\n",
    "        print('thought so')\n",
    "    else:\n",
    "        print('you are amazing')"
   ]
  }
 ],
 "metadata": {
  "kernelspec": {
   "display_name": "Python 3",
   "language": "python",
   "name": "python3"
  },
  "language_info": {
   "codemirror_mode": {
    "name": "ipython",
    "version": 3
   },
   "file_extension": ".py",
   "mimetype": "text/x-python",
   "name": "python",
   "nbconvert_exporter": "python",
   "pygments_lexer": "ipython3",
   "version": "3.8.8"
  }
 },
 "nbformat": 4,
 "nbformat_minor": 5
}
