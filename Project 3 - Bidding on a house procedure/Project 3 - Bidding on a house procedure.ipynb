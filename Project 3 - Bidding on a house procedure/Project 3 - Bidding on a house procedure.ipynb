{
 "cells": [
  {
   "cell_type": "code",
   "execution_count": 2,
   "id": "1bd0d6d2-8051-4957-9b2e-8f66cdcd6f93",
   "metadata": {},
   "outputs": [
    {
     "name": "stdout",
     "output_type": "stream",
     "text": [
      "A house for 3600000 has been set for sale, but the seller might be able to go down to 3555000\n",
      "Give an initial offer on this house\n"
     ]
    },
    {
     "name": "stdin",
     "output_type": "stream",
     "text": [
      " 3500000\n"
     ]
    },
    {
     "name": "stdout",
     "output_type": "stream",
     "text": [
      "Give your budget offer\n"
     ]
    },
    {
     "name": "stdin",
     "output_type": "stream",
     "text": [
      " 3580000\n"
     ]
    },
    {
     "name": "stdout",
     "output_type": "stream",
     "text": [
      "Give your difference in increment, meaning increase per time\n"
     ]
    },
    {
     "name": "stdin",
     "output_type": "stream",
     "text": [
      " 10000\n"
     ]
    },
    {
     "name": "stdout",
     "output_type": "stream",
     "text": [
      "The offer of  3500000  was not accepted\n",
      "The offer of  3510000  was not accepted\n",
      "The offer of  3520000  was not accepted\n",
      "The offer of  3530000  was not accepted\n",
      "The offer of  3540000  was not accepted\n",
      "The offer of  3550000  was not accepted\n",
      "The offer of  3560000  has been accepted.\n"
     ]
    }
   ],
   "source": [
    "# Project 3 - Bidding on a house procedure\n",
    "cost=3555000\n",
    "print(f'A house for 3600000 has been set for sale, but the seller might be able to go down to {cost}')\n",
    "print('Give an initial offer on this house')\n",
    "offer=abs(int(input()))\n",
    "print('Give your budget offer')\n",
    "budget=abs(int(input()))\n",
    "print('Give your difference in increment, meaning increase per time')\n",
    "increment=abs(int(input()))\n",
    "offer_accepted=False\n",
    "\n",
    "while offer<=budget:\n",
    "    if offer>=cost:\n",
    "        offer_accepted=True\n",
    "        print('The offer of ',offer,(' has been accepted.'))\n",
    "        break\n",
    "    print('The offer of ',offer,(' was not accepted'))\n",
    "    offer+=increment"
   ]
  }
 ],
 "metadata": {
  "kernelspec": {
   "display_name": "Python 3",
   "language": "python",
   "name": "python3"
  },
  "language_info": {
   "codemirror_mode": {
    "name": "ipython",
    "version": 3
   },
   "file_extension": ".py",
   "mimetype": "text/x-python",
   "name": "python",
   "nbconvert_exporter": "python",
   "pygments_lexer": "ipython3",
   "version": "3.8.8"
  }
 },
 "nbformat": 4,
 "nbformat_minor": 5
}
