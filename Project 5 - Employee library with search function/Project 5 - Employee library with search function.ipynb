{
 "cells": [
  {
   "cell_type": "code",
   "execution_count": 1,
   "id": "13c7b47c-8c58-4751-b44b-6f8fdca36ec6",
   "metadata": {},
   "outputs": [
    {
     "name": "stdout",
     "output_type": "stream",
     "text": [
      "[{'Navn:': 'John', 'Alder:': 33, 'Afdeling:': 'Salg'}, {'Navn:': 'Lise', 'Alder:': 290, 'Afdeling:': 'Marketing'}, {'Navn:': 'Asger', 'Alder:': 323, 'Afdeling:': 'Hr'}]\n"
     ]
    }
   ],
   "source": [
    "# Project 5 - Employee library with search function\n",
    "employees=[\n",
    "    {'Navn:':'John','Alder:':33,'Afdeling:':'Salg'},\n",
    "    {'Navn:':'Lise','Alder:':290,'Afdeling:':'Marketing'},\n",
    "    {'Navn:':'Asger','Alder:':323,'Afdeling:':'Hr'}\n",
    "]\n",
    "\n",
    "print(employees)"
   ]
  },
  {
   "cell_type": "code",
   "execution_count": 2,
   "id": "21a1cb29-a92f-4519-8605-8baaa9022f6c",
   "metadata": {},
   "outputs": [
    {
     "name": "stdout",
     "output_type": "stream",
     "text": [
      "Navn: John\n",
      "Alder: 33\n",
      "Afdeling: Salg\n",
      "--------------------\n",
      "Navn: Lise\n",
      "Alder: 290\n",
      "Afdeling: Marketing\n",
      "--------------------\n",
      "Navn: Asger\n",
      "Alder: 323\n",
      "Afdeling: Hr\n",
      "--------------------\n"
     ]
    }
   ],
   "source": [
    "for employee in employees:\n",
    "    print('Navn:',employee['Navn:'])\n",
    "    print('Alder:',employee['Alder:'])\n",
    "    print('Afdeling:',employee['Afdeling:'])\n",
    "    print('-'*20)"
   ]
  },
  {
   "cell_type": "code",
   "execution_count": 3,
   "id": "0ae80014-6753-471a-824a-893dff739553",
   "metadata": {},
   "outputs": [
    {
     "name": "stdout",
     "output_type": "stream",
     "text": [
      "Navn: Asger\n",
      "Alder: 323\n",
      "Afdeling: Hr\n",
      "--------------------\n"
     ]
    }
   ],
   "source": [
    "for employee in employees:\n",
    "    if employee['Navn:']=='Asger':\n",
    "        print('Navn:',employee['Navn:'])\n",
    "        print('Alder:',employee['Alder:'])\n",
    "        print('Afdeling:',employee['Afdeling:'])\n",
    "        print('-'*20)"
   ]
  }
 ],
 "metadata": {
  "kernelspec": {
   "display_name": "Python 3",
   "language": "python",
   "name": "python3"
  },
  "language_info": {
   "codemirror_mode": {
    "name": "ipython",
    "version": 3
   },
   "file_extension": ".py",
   "mimetype": "text/x-python",
   "name": "python",
   "nbconvert_exporter": "python",
   "pygments_lexer": "ipython3",
   "version": "3.8.8"
  }
 },
 "nbformat": 4,
 "nbformat_minor": 5
}
