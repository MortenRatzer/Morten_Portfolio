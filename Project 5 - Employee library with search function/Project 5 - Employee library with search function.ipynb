{
 "cells": [
  {
   "cell_type": "code",
   "execution_count": 7,
   "id": "13c7b47c-8c58-4751-b44b-6f8fdca36ec6",
   "metadata": {},
   "outputs": [
    {
     "name": "stdout",
     "output_type": "stream",
     "text": [
      "[{'Name:': 'John', 'Age:': 33, 'Department:': 'Sales'}, {'Name:': 'Lise', 'Age:': 29, 'Department:': 'Marketing'}, {'Name:': 'Asger', 'Age:': 323, 'Department:': 'HR'}]\n"
     ]
    }
   ],
   "source": [
    "# Project 5 - Employee library with search function\n",
    "employees=[\n",
    "    {'Name:':'John','Age:':33,'Department:':'Sales'},\n",
    "    {'Name:':'Lise','Age:':29,'Department:':'Marketing'},\n",
    "    {'Name:':'Asger','Age:':323,'Department:':'HR'}\n",
    "]\n",
    "\n",
    "print(employees)"
   ]
  },
  {
   "cell_type": "code",
   "execution_count": 8,
   "id": "21a1cb29-a92f-4519-8605-8baaa9022f6c",
   "metadata": {},
   "outputs": [
    {
     "name": "stdout",
     "output_type": "stream",
     "text": [
      "Name: John\n",
      "Age: 33\n",
      "Department: Sales\n",
      "--------------------\n",
      "Name: Lise\n",
      "Age: 29\n",
      "Department: Marketing\n",
      "--------------------\n",
      "Name: Asger\n",
      "Age: 323\n",
      "Department: HR\n",
      "--------------------\n"
     ]
    }
   ],
   "source": [
    "for employee in employees:\n",
    "    print('Name:',employee['Name:'])\n",
    "    print('Age:',employee['Age:'])\n",
    "    print('Department:',employee['Department:'])\n",
    "    print('-'*20)"
   ]
  },
  {
   "cell_type": "code",
   "execution_count": 9,
   "id": "0ae80014-6753-471a-824a-893dff739553",
   "metadata": {},
   "outputs": [
    {
     "name": "stdout",
     "output_type": "stream",
     "text": [
      "Name: Asger\n",
      "Age: 323\n",
      "Department: HR\n",
      "--------------------\n"
     ]
    }
   ],
   "source": [
    "for employee in employees:\n",
    "    if employee['Name:']=='Asger':\n",
    "        print('Name:',employee['Name:'])\n",
    "        print('Age:',employee['Age:'])\n",
    "        print('Department:',employee['Department:'])\n",
    "        print('-'*20)"
   ]
  }
 ],
 "metadata": {
  "kernelspec": {
   "display_name": "Python 3",
   "language": "python",
   "name": "python3"
  },
  "language_info": {
   "codemirror_mode": {
    "name": "ipython",
    "version": 3
   },
   "file_extension": ".py",
   "mimetype": "text/x-python",
   "name": "python",
   "nbconvert_exporter": "python",
   "pygments_lexer": "ipython3",
   "version": "3.8.8"
  }
 },
 "nbformat": 4,
 "nbformat_minor": 5
}
