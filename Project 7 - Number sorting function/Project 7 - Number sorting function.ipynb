{
 "cells": [
  {
   "cell_type": "code",
   "execution_count": 1,
   "id": "4a0d0ab9-ef27-4eaa-b1c0-2a7955c4048b",
   "metadata": {},
   "outputs": [
    {
     "name": "stdout",
     "output_type": "stream",
     "text": [
      "[1, 2, 3, 4, 5, 6, 7, 8, 9, 11, 12, 13, 14, 15, 16, 17, 18, 19, 20, 21, 22, 23, 24, 25, 26, 27, 28, 30, 31, 32, 34, 35]\n"
     ]
    }
   ],
   "source": [
    "# Project 7 - Number sorting function\n",
    "l = [11,17,3,14,24,12,31,15,18,20,19,28,35,5,30,23, 6,32, 8, 25, 26, 1,27,21, 4, 2, 9,7,16,22,13,34]\n",
    "still_swapping = True\n",
    "while still_swapping:\n",
    "        still_swapping = False\n",
    "        for i in range(len(l)-1):\n",
    "            if l[i]>l[i+1]:\n",
    "                l[i],l[i+1]=l[i+1],l[i]\n",
    "                still_swapping = True\n",
    "                break\n",
    "print(l)"
   ]
  }
 ],
 "metadata": {
  "kernelspec": {
   "display_name": "Python 3",
   "language": "python",
   "name": "python3"
  },
  "language_info": {
   "codemirror_mode": {
    "name": "ipython",
    "version": 3
   },
   "file_extension": ".py",
   "mimetype": "text/x-python",
   "name": "python",
   "nbconvert_exporter": "python",
   "pygments_lexer": "ipython3",
   "version": "3.8.8"
  }
 },
 "nbformat": 4,
 "nbformat_minor": 5
}
