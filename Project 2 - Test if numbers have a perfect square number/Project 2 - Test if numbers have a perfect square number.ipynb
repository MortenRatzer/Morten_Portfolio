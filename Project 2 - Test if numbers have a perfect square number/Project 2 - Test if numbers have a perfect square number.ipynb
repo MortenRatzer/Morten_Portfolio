{
 "cells": [
  {
   "cell_type": "code",
   "execution_count": 6,
   "id": "67dbfd1c-68a0-41bd-9c66-fd2781aacbe5",
   "metadata": {},
   "outputs": [
    {
     "name": "stdout",
     "output_type": "stream",
     "text": [
      "Enter a number to see if it is a perfect square\n"
     ]
    },
    {
     "name": "stdin",
     "output_type": "stream",
     "text": [
      " 9\n"
     ]
    },
    {
     "name": "stdout",
     "output_type": "stream",
     "text": [
      "The square root of  9  is  3 .\n"
     ]
    }
   ],
   "source": [
    "# Testing of perfect square numbers\n",
    "print('Enter a number to see if it is a perfect square')\n",
    "number=input()\n",
    "number=abs(int(number))\n",
    "i=-1\n",
    "square=False\n",
    "while i<=number**(0.5):\n",
    "    i += 1 # 7. increment i by 1\n",
    "    \n",
    "        # 8 Check if it is square root of the number\n",
    "    if i*i == number:\n",
    "            square=True # Indicate that we have a perfect square\n",
    "            break       # break out of loop\n",
    "    # if the number is square, print out the result\n",
    "if square:\n",
    "    print('The square root of ',number,' is ',i,'.')\n",
    "else: # if the number has no perfect square type:\n",
    "    print('The ',number,' has no perfect square.')"
   ]
  }
 ],
 "metadata": {
  "kernelspec": {
   "display_name": "Python 3",
   "language": "python",
   "name": "python3"
  },
  "language_info": {
   "codemirror_mode": {
    "name": "ipython",
    "version": 3
   },
   "file_extension": ".py",
   "mimetype": "text/x-python",
   "name": "python",
   "nbconvert_exporter": "python",
   "pygments_lexer": "ipython3",
   "version": "3.8.8"
  }
 },
 "nbformat": 4,
 "nbformat_minor": 5
}
